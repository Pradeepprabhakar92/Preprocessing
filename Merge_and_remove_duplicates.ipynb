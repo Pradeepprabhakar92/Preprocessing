{
 "cells": [
  {
   "cell_type": "markdown",
   "metadata": {},
   "source": [
    "# Note\n",
    "- I removed 'gameMode' column because Grace's data does not have gameMode column\n",
    "    - Since gameMode is all classic, it doesn't really matter.\n",
    "- I removed '' - empty string column because Matt's data has this column.\n",
    "    - I think this column is analogous with 'pickTurn' column\n",
    "   \n",
    "- Need to work on converting Aniruddha's data -> converting column names"
   ]
  },
  {
   "cell_type": "code",
   "execution_count": 1,
   "metadata": {},
   "outputs": [],
   "source": [
    "import os\n",
    "import csv\n",
    "from tqdm import tqdm\n",
    "from pathlib import Path"
   ]
  },
  {
   "cell_type": "code",
   "execution_count": 2,
   "metadata": {},
   "outputs": [],
   "source": [
    "directory = Path('/Users/tonykim/Downloads/Match_data/')"
   ]
  },
  {
   "cell_type": "code",
   "execution_count": 3,
   "metadata": {},
   "outputs": [
    {
     "name": "stdout",
     "output_type": "stream",
     "text": [
      "Aniruddha_matches_data_1.csv\n",
      "Grace_matchdata7.csv\n",
      "Matthew_data_1.csv\n",
      "Matthew_data_2.csv\n",
      "Pradeep_match_data_58K.csv\n"
     ]
    }
   ],
   "source": [
    "# List the csv files I have\n",
    "csv_files = [f for f in os.listdir(directory) if f.endswith('.csv')]\n",
    "for csv_file in csv_files:\n",
    "    print(csv_file)"
   ]
  },
  {
   "cell_type": "code",
   "execution_count": 4,
   "metadata": {},
   "outputs": [],
   "source": [
    "# For right now, I'm skipping Aniruddha's dataset - help me fix this!\n",
    "csv_files.remove('Aniruddha_matches_data_1.csv')"
   ]
  },
  {
   "cell_type": "code",
   "execution_count": 5,
   "metadata": {},
   "outputs": [],
   "source": [
    "# Uniqueness testing dictionary\n",
    "d = {} # (gameid, pickturn) is the key"
   ]
  },
  {
   "cell_type": "code",
   "execution_count": 6,
   "metadata": {},
   "outputs": [
    {
     "name": "stderr",
     "output_type": "stream",
     "text": [
      "2915it [00:00, 29142.11it/s]"
     ]
    },
    {
     "name": "stdout",
     "output_type": "stream",
     "text": [
      "Reading file: Grace_matchdata7.csv\n"
     ]
    },
    {
     "name": "stderr",
     "output_type": "stream",
     "text": [
      "33540it [00:01, 29496.61it/s]\n",
      "5306it [00:00, 26092.46it/s]"
     ]
    },
    {
     "name": "stdout",
     "output_type": "stream",
     "text": [
      "Reading file: Matthew_data_1.csv\n"
     ]
    },
    {
     "name": "stderr",
     "output_type": "stream",
     "text": [
      "7140it [00:00, 25367.27it/s]\n",
      "5286it [00:00, 26010.14it/s]"
     ]
    },
    {
     "name": "stdout",
     "output_type": "stream",
     "text": [
      "Reading file: Matthew_data_2.csv\n"
     ]
    },
    {
     "name": "stderr",
     "output_type": "stream",
     "text": [
      "441010it [00:17, 25383.59it/s]\n",
      "5913it [00:00, 29789.97it/s]"
     ]
    },
    {
     "name": "stdout",
     "output_type": "stream",
     "text": [
      "Reading file: Pradeep_match_data_58K.csv\n"
     ]
    },
    {
     "name": "stderr",
     "output_type": "stream",
     "text": [
      "581550it [00:22, 26430.01it/s]\n"
     ]
    }
   ],
   "source": [
    "for file_name in csv_files:\n",
    "    print('Reading file:', file_name)\n",
    "    with open(directory/file_name) as f:\n",
    "        reader = csv.DictReader(f)\n",
    "        for row in tqdm(reader):\n",
    "            # Remove gameMode column\n",
    "            if 'gameMode' in row:\n",
    "                row.pop('gameMode')\n",
    "            # Remove '' column - Matt's datasets contain empty string named column\n",
    "            if '' in row:\n",
    "                row.pop('')\n",
    "            \n",
    "            # Filter out by queueID and version\n",
    "            if not row['gameVersion'].startswith('9.22'):\n",
    "                continue\n",
    "            if not row['queueId'] == '420':\n",
    "                continue\n",
    "\n",
    "            key = (row['gameId'], row['pickTurn'])\n",
    "            if key not in d:\n",
    "                d[key] = row            "
   ]
  },
  {
   "cell_type": "code",
   "execution_count": 7,
   "metadata": {},
   "outputs": [
    {
     "name": "stdout",
     "output_type": "stream",
     "text": [
      "we have 350880 rows\n"
     ]
    }
   ],
   "source": [
    "print(f\"we have {len(d)} rows\")"
   ]
  },
  {
   "cell_type": "code",
   "execution_count": 8,
   "metadata": {},
   "outputs": [],
   "source": [
    "# Rename some of the columns\n",
    "for row in d.values():\n",
    "    row['championId_Ban'] = row.pop('championId_x')\n",
    "    row['championId_Pick'] = row.pop('championId_y')"
   ]
  },
  {
   "cell_type": "code",
   "execution_count": 9,
   "metadata": {},
   "outputs": [],
   "source": [
    "with open('/Users/tonykim/Downloads/merged_match_dataset_V0.csv', 'w') as output:\n",
    "    writer = csv.DictWriter(output, fieldnames=row.keys())\n",
    "    writer.writeheader()\n",
    "    for row in d.values():\n",
    "        writer.writerow(row)"
   ]
  },
  {
   "cell_type": "code",
   "execution_count": null,
   "metadata": {},
   "outputs": [],
   "source": []
  }
 ],
 "metadata": {
  "kernelspec": {
   "display_name": "Python3 (conda)",
   "language": "python",
   "name": "python3"
  },
  "language_info": {
   "codemirror_mode": {
    "name": "ipython",
    "version": 3
   },
   "file_extension": ".py",
   "mimetype": "text/x-python",
   "name": "python",
   "nbconvert_exporter": "python",
   "pygments_lexer": "ipython3",
   "version": "3.6.7"
  }
 },
 "nbformat": 4,
 "nbformat_minor": 2
}
