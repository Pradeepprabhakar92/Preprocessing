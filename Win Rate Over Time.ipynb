{
 "cells": [
  {
   "cell_type": "code",
   "execution_count": 14,
   "metadata": {},
   "outputs": [],
   "source": [
    "import csv\n",
    "from collections import defaultdict, Counter\n",
    "from tqdm import tqdm"
   ]
  },
  {
   "cell_type": "code",
   "execution_count": 15,
   "metadata": {},
   "outputs": [
    {
     "name": "stderr",
     "output_type": "stream",
     "text": [
      "431600it [00:28, 15093.54it/s]\n"
     ]
    }
   ],
   "source": [
    "with open('merged_match_dataset_V2.csv') as f:\n",
    "    reader = csv.DictReader(f)\n",
    "    matches = [row for row in tqdm(reader)]"
   ]
  },
  {
   "cell_type": "code",
   "execution_count": 16,
   "metadata": {},
   "outputs": [
    {
     "name": "stdout",
     "output_type": "stream",
     "text": [
      "We have 43160 matches, which will give 431600 rows\n"
     ]
    }
   ],
   "source": [
    "print(f'We have {len(matches)//10} matches, which will give {len(matches)} rows')"
   ]
  },
  {
   "cell_type": "code",
   "execution_count": 17,
   "metadata": {},
   "outputs": [
    {
     "name": "stderr",
     "output_type": "stream",
     "text": [
      "100%|██████████| 431600/431600 [00:00<00:00, 1026248.67it/s]\n"
     ]
    }
   ],
   "source": [
    "champion_picks_matches = defaultdict(list) # key -> list\n",
    "for match in tqdm(matches):\n",
    "    champion_picks_matches[int(match['championId_Pick'])].append(match)"
   ]
  },
  {
   "cell_type": "code",
   "execution_count": 7,
   "metadata": {},
   "outputs": [],
   "source": [
    "with open('champions-CCs,lanes.csv') as f:\n",
    "    reader = csv.DictReader(f)\n",
    "    champions = {int(row['key']):row for row in reader}"
   ]
  },
  {
   "cell_type": "code",
   "execution_count": 8,
   "metadata": {},
   "outputs": [],
   "source": [
    "def categorize(seconds):\n",
    "    if seconds <= 20 * 60:\n",
    "        return '0-20'\n",
    "    elif seconds <= 25 * 60:\n",
    "        return '20-25'\n",
    "    elif seconds <= 30 * 60:\n",
    "        return '25-30'\n",
    "    elif seconds <= 35 * 60:\n",
    "        return '30-35'\n",
    "    else:\n",
    "        return '30+'"
   ]
  },
  {
   "cell_type": "code",
   "execution_count": 9,
   "metadata": {},
   "outputs": [],
   "source": [
    "durations = ['0-20', '20-25', '25-30', '30-35', '30+']"
   ]
  },
  {
   "cell_type": "code",
   "execution_count": 18,
   "metadata": {},
   "outputs": [],
   "source": [
    "c = Counter(game['win_x'] for game in matches)"
   ]
  },
  {
   "cell_type": "code",
   "execution_count": 19,
   "metadata": {},
   "outputs": [
    {
     "data": {
      "text/plain": [
       "dict_keys(['Fail', 'Win'])"
      ]
     },
     "execution_count": 19,
     "metadata": {},
     "output_type": "execute_result"
    }
   ],
   "source": [
    "c.keys()"
   ]
  },
  {
   "cell_type": "code",
   "execution_count": 20,
   "metadata": {},
   "outputs": [
    {
     "name": "stderr",
     "output_type": "stream",
     "text": [
      " 25%|██▍       | 36/146 [00:00<00:15,  6.88it/s]"
     ]
    },
    {
     "name": "stdout",
     "output_type": "stream",
     "text": [
      "2368, 1085, 45.81925675675676\n",
      "4005, 2080, 51.9350811485643\n",
      "4530, 2098, 46.31346578366446\n",
      "1387, 629, 45.34967555875991\n",
      "1802, 908, 50.38845726970034\n",
      "1156, 588, 50.86505190311419\n",
      "1538, 756, 49.15474642392718\n",
      "7448, 3853, 51.73200859291085\n",
      "578, 319, 55.19031141868512\n",
      "490, 224, 45.714285714285715\n",
      "1766, 916, 51.868629671574176\n",
      "4450, 2336, 52.49438202247191\n",
      "2532, 1267, 50.039494470774095\n",
      "979, 456, 46.57814096016343\n",
      "10210, 5165, 50.587659157688535\n",
      "2592, 1244, 47.99382716049383\n",
      "1091, 556, 50.96241979835013\n",
      "1751, 854, 48.772130211307825\n",
      "324, 141, 43.51851851851852\n",
      "5204, 2632, 50.57647963105304\n",
      "2339, 1151, 49.209063702436936\n",
      "3135, 1600, 51.03668261562998\n",
      "2732, 1387, 50.76866764275256\n",
      "8768, 4664, 53.193430656934304\n",
      "2952, 1448, 49.05149051490515\n",
      "2201, 1060, 48.159927305770104\n",
      "7288, 3322, 45.58177826564215\n",
      "1390, 695, 50.0\n",
      "3548, 1810, 51.01465614430665\n",
      "3305, 1757, 53.16187594553706\n",
      "1943, 1000, 51.4668039114771\n",
      "2444, 1210, 49.50900163666121\n",
      "4589, 2361, 51.44911745478318\n",
      "1164, 572, 49.140893470790374\n",
      "2162, 940, 43.47826086956522\n",
      "2197, 1142, 51.979972690031865\n"
     ]
    },
    {
     "name": "stderr",
     "output_type": "stream",
     "text": [
      " 46%|████▌     | 67/146 [00:00<00:05, 13.36it/s]"
     ]
    },
    {
     "name": "stdout",
     "output_type": "stream",
     "text": [
      "2586, 1321, 51.082753286929616\n",
      "2028, 1076, 53.05719921104537\n",
      "1447, 719, 49.68901174844506\n",
      "2599, 1188, 45.70988841862255\n",
      "400, 185, 46.25\n",
      "3064, 1567, 51.14229765013055\n",
      "3919, 1913, 48.81347282470018\n",
      "4805, 2417, 50.301768990634756\n",
      "1083, 504, 46.53739612188366\n",
      "6131, 3188, 51.998042733648674\n",
      "6062, 3128, 51.60013196964698\n",
      "10137, 4706, 46.42399131893065\n",
      "543, 244, 44.935543278084715\n",
      "1599, 734, 45.90368980612883\n",
      "1406, 683, 48.57752489331437\n",
      "2328, 1208, 51.890034364261176\n",
      "2551, 1304, 51.1172089376715\n",
      "5160, 2713, 52.57751937984496\n",
      "4938, 2503, 50.68853786958283\n",
      "1525, 782, 51.278688524590166\n",
      "5128, 2637, 51.42355694227769\n",
      "1065, 532, 49.95305164319249\n",
      "2021, 1085, 53.686293913904\n",
      "718, 356, 49.58217270194986\n",
      "2341, 1126, 48.09910294745835\n",
      "8431, 3930, 46.6136875815443\n",
      "6548, 3472, 53.02382406841784\n",
      "1274, 635, 49.84301412872841\n",
      "6842, 3286, 48.026892721426485\n",
      "2534, 1316, 51.93370165745856\n",
      "5568, 2796, 50.21551724137932\n",
      "3822, 1923, 50.313971742543174\n",
      "2558, 1334, 52.150117279124316\n",
      "1106, 556, 50.27124773960217\n",
      "4059, 2125, 52.352796255235276\n",
      "6704, 3602, 53.7291169451074\n"
     ]
    },
    {
     "name": "stderr",
     "output_type": "stream",
     "text": [
      " 68%|██████▊   | 100/146 [00:00<00:01, 25.02it/s]"
     ]
    },
    {
     "name": "stdout",
     "output_type": "stream",
     "text": [
      "1148, 601, 52.35191637630662\n",
      "3676, 1888, 51.36017410228509\n",
      "5054, 2518, 49.821923229125446\n",
      "4317, 2231, 51.6794069955988\n",
      "2433, 1208, 49.65063707357172\n",
      "7099, 3665, 51.62698971686153\n",
      "1439, 702, 48.78387769284225\n",
      "1382, 654, 47.32272069464544\n",
      "3111, 1588, 51.044680167148826\n",
      "1787, 916, 51.25909345271404\n",
      "2319, 1170, 50.45278137128072\n",
      "2532, 1253, 49.48657187993681\n",
      "1669, 806, 48.29239065308568\n",
      "2656, 1288, 48.493975903614455\n",
      "1025, 455, 44.390243902439025\n",
      "4089, 1977, 48.3492296404989\n",
      "4416, 1988, 45.018115942028984\n",
      "1037, 524, 50.53037608486017\n",
      "2564, 1204, 46.957878315132604\n",
      "1098, 537, 48.90710382513661\n",
      "1461, 700, 47.912388774811774\n",
      "3803, 1844, 48.48803576124113\n",
      "2692, 1406, 52.228826151560185\n",
      "3355, 1647, 49.09090909090909\n",
      "1460, 739, 50.61643835616438\n",
      "7519, 3593, 47.78560978853571\n",
      "888, 419, 47.18468468468468\n",
      "10359, 5137, 49.5897287382952\n",
      "3623, 1922, 53.049958597847095\n",
      "1878, 926, 49.30777422790202\n",
      "1073, 539, 50.23299161230196\n",
      "1327, 662, 49.886963074604374\n",
      "1230, 612, 49.75609756097561\n",
      "1848, 944, 51.082251082251084\n",
      "340, 169, 49.705882352941174\n",
      "1373, 714, 52.00291332847778\n",
      "2637, 1375, 52.142586272279104\n",
      "2722, 1381, 50.73475385745775\n",
      "902, 403, 44.67849223946785\n",
      "2651, 1284, 48.434552998868355\n",
      "363, 159, 43.80165289256198\n",
      "697, 352, 50.50215208034433\n",
      "2475, 1265, 51.11111111111111"
     ]
    },
    {
     "name": "stderr",
     "output_type": "stream",
     "text": [
      "100%|██████████| 146/146 [00:01<00:00, 123.85it/s]"
     ]
    },
    {
     "name": "stdout",
     "output_type": "stream",
     "text": [
      "\n",
      "857, 484, 56.47607934655776\n",
      "2889, 1464, 50.67497403946002\n",
      "8830, 4392, 49.73952434881087\n",
      "4159, 2103, 50.56503967299831\n",
      "522, 252, 48.275862068965516\n",
      "2726, 1364, 50.03668378576669\n",
      "2371, 1171, 49.388443694643605\n",
      "2266, 1217, 53.706972639011475\n",
      "1447, 750, 51.83137525915688\n",
      "1274, 632, 49.60753532182103\n",
      "1586, 774, 48.80201765447667\n",
      "5186, 2603, 50.19282684149634\n",
      "3327, 1657, 49.80462879470995\n",
      "2440, 1210, 49.59016393442623\n",
      "2607, 1344, 51.55350978135789\n",
      "1346, 650, 48.29123328380386\n",
      "4800, 2366, 49.291666666666664\n",
      "2100, 1058, 50.38095238095238\n",
      "2453, 1293, 52.710966163880954\n",
      "5806, 2770, 47.709266276265936\n",
      "2251, 1141, 50.68858285206574\n",
      "1719, 851, 49.50552646887726\n",
      "8538, 4250, 49.77746544858281\n",
      "999, 493, 49.349349349349346\n",
      "1978, 820, 41.45601617795754\n",
      "2301, 1205, 52.36853541938288\n",
      "4057, 2110, 52.00887355188563\n",
      "689, 363, 52.685050798258345\n",
      "1398, 709, 50.71530758226037\n",
      "1275, 627, 49.1764705882353\n",
      "2488, 1292, 51.929260450160776\n"
     ]
    },
    {
     "name": "stderr",
     "output_type": "stream",
     "text": [
      "\n"
     ]
    }
   ],
   "source": [
    "for key, champion in tqdm(champions.items()):\n",
    "    games = champion_picks_matches[key]\n",
    "    win_games = [game for game in games if game['win_x'] == 'Win']\n",
    "    # print(f'{len(games)}, {len(win_games)}, {len(win_games)/len(games)*100}')\n",
    "    \n",
    "    total_bins = Counter(categorize(int(game['gameDuration'])) for game in games)\n",
    "    win_bins = Counter(categorize(int(game['gameDuration'])) for game in win_games)\n",
    "    \n",
    "    for duration in durations:\n",
    "        champion[f'duration{duration}_total'] = total_bins[duration]\n",
    "        champion[f'duration{duration}_wins'] = win_bins[duration]\n",
    "        champion[f'duration{duration}_winrate'] = win_bins[duration] / total_bins[duration]"
   ]
  },
  {
   "cell_type": "code",
   "execution_count": 24,
   "metadata": {},
   "outputs": [
    {
     "name": "stdout",
     "output_type": "stream",
     "text": [
      "duration: 0-20, total: 53020, wins: 26510\n",
      "wins/total = 0.5\n",
      "duration: 20-25, total: 101550, wins: 50775\n",
      "wins/total = 0.5\n",
      "duration: 25-30, total: 127600, wins: 63800\n",
      "wins/total = 0.5\n",
      "duration: 30-35, total: 91650, wins: 45825\n",
      "wins/total = 0.5\n",
      "duration: 30+, total: 57780, wins: 28890\n",
      "wins/total = 0.5\n"
     ]
    }
   ],
   "source": [
    "# Sanity check\n",
    "for duration in durations:\n",
    "    total = sum(champion[f'duration{duration}_total'] for champion in champions.values())\n",
    "    wins = sum(champion[f'duration{duration}_wins'] for champion in champions.values())\n",
    "    print(f'duration: {duration}, total: {total}, wins: {wins}')\n",
    "    print(f'wins/total = {wins/total}')"
   ]
  },
  {
   "cell_type": "code",
   "execution_count": 23,
   "metadata": {},
   "outputs": [],
   "source": [
    "# Save results\n",
    "with open('new_champions_rates_over_time.csv', 'w') as output:\n",
    "    writer = csv.DictWriter(output, fieldnames=champions[266].keys())\n",
    "    writer.writeheader()\n",
    "    for champion in champions.values():\n",
    "        writer.writerow(champion)"
   ]
  },
  {
   "cell_type": "code",
   "execution_count": null,
   "metadata": {},
   "outputs": [],
   "source": []
  }
 ],
 "metadata": {
  "kernelspec": {
   "display_name": "Python3 (conda)",
   "language": "python",
   "name": "python3"
  },
  "language_info": {
   "codemirror_mode": {
    "name": "ipython",
    "version": 3
   },
   "file_extension": ".py",
   "mimetype": "text/x-python",
   "name": "python",
   "nbconvert_exporter": "python",
   "pygments_lexer": "ipython3",
   "version": "3.6.7"
  }
 },
 "nbformat": 4,
 "nbformat_minor": 2
}
